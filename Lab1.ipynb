{
 "cells": [
  {
   "cell_type": "code",
   "execution_count": 7,
   "metadata": {},
   "outputs": [
    {
     "name": "stdout",
     "output_type": "stream",
     "text": [
      "<class 'int'> 3\n",
      "<class 'float'> 1.4\n",
      "<class 'bool'> False\n",
      "<class 'str'> Hello World\n"
     ]
    }
   ],
   "source": [
    "a = 3\n",
    "print(type(a),a) ;\n",
    "b = 1.4\n",
    "print(type(b),b) ;\n",
    "c = False\n",
    "print(type(c),c) ;\n",
    "d =\"Hello World\"\n",
    "print(type(d),d) ;\n"
   ]
  },
  {
   "cell_type": "code",
   "execution_count": 12,
   "metadata": {},
   "outputs": [
    {
     "name": "stdout",
     "output_type": "stream",
     "text": [
      "2\n",
      "2\n",
      "0\n",
      "Division by zero is not allowed.\n"
     ]
    }
   ],
   "source": [
    "num1 = int(input(\"Enter first number: \"))\n",
    "num2 = int(input(\"Enter second number: \"))\n",
    "\n",
    "print(num1 + num2)\n",
    "print(num1 - num2)\n",
    "print(num1 * num2)\n",
    "\n",
    "if num2 != 0:\n",
    "    print(num1 / num2)\n",
    "else:\n",
    "    print(\"Division by 0 is not allowed!!!\")"
   ]
  },
  {
   "cell_type": "code",
   "execution_count": 13,
   "metadata": {},
   "outputs": [
    {
     "name": "stdout",
     "output_type": "stream",
     "text": [
      "You had entered: 2\n",
      "An integer value: 2\n",
      "Value in the form of a valid number: 2.0\n",
      "Addition result: 3.2\n",
      "Subtraction result: 0.8\n",
      "Multiplication result: 2.4\n",
      "Division result: 1.6666666666666667\n",
      "The first number is greater than the second.\n"
     ]
    }
   ],
   "source": [
    "user_input = input(\"Enter first number: \")\n",
    "\n",
    "print(f\"You had entered: {user_input}\")\n",
    "\n",
    "try:\n",
    "    user_input_as_int = int(user_input)\n",
    "    print(f\"An integer value: {user_input_as_int}\")\n",
    "except ValueError:\n",
    "    print(\"Failed to convert to integer :(\")\n",
    "\n",
    "\n",
    "try:\n",
    "    user_input_as_float = float(user_input)\n",
    "    print(f\"Value in the form of a valid number: {user_input_as_float}\")\n",
    "except ValueError:\n",
    "    print(\"Failed to convert to valid number\")\n",
    "\n",
    "\n",
    "second_number = float(input(\"Enter second number: \"))\n",
    "\n",
    "\n",
    "add_result = user_input_as_float + second_number\n",
    "sub_result = user_input_as_float - second_number\n",
    "mul_result = user_input_as_float * second_number\n",
    "div_result = user_input_as_float / second_number\n",
    "\n",
    "print(f\"Addition result: {add_result}\")\n",
    "print(f\"Subtraction result: {sub_result}\")\n",
    "print(f\"Multiplication result: {mul_result}\")\n",
    "print(f\"Division result: {div_result}\")\n",
    "\n",
    "\n",
    "if user_input_as_float == second_number:\n",
    "    print(\"The numbers are equal.\")\n",
    "elif user_input_as_float < second_number:\n",
    "    print(\"The first number is less than the second.\")\n",
    "else:\n",
    "    print(\"The first number is greater than the second.\")"
   ]
  }
 ],
 "metadata": {
  "kernelspec": {
   "display_name": "Python 3",
   "language": "python",
   "name": "python3"
  },
  "language_info": {
   "codemirror_mode": {
    "name": "ipython",
    "version": 3
   },
   "file_extension": ".py",
   "mimetype": "text/x-python",
   "name": "python",
   "nbconvert_exporter": "python",
   "pygments_lexer": "ipython3",
   "version": "3.11.2"
  },
  "orig_nbformat": 4
 },
 "nbformat": 4,
 "nbformat_minor": 2
}
