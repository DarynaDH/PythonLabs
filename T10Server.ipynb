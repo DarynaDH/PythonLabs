{
 "cells": [
  {
   "cell_type": "code",
   "execution_count": 1,
   "metadata": {},
   "outputs": [
    {
     "name": "stdout",
     "output_type": "stream",
     "text": [
      "Server is listening for connections...\n",
      "daryna connected\n",
      "Received from daryna: Hello\n"
     ]
    }
   ],
   "source": [
    "import socket\n",
    "import threading\n",
    "import logging\n",
    "\n",
    "clients = []\n",
    "usernames = {}  \n",
    "logging.basicConfig(filename='server_log.txt', level=logging.INFO)\n",
    "\n",
    "\n",
    "def broadcast(message, sender_socket, username):\n",
    "    for client in clients:\n",
    "        if client != sender_socket:\n",
    "            try:\n",
    "                client.send(f\"{username}: {message}\".encode())\n",
    "            except:\n",
    "                clients.remove(client)\n",
    "\n",
    "\n",
    "def handle_client(client_socket, username):\n",
    "    while True:\n",
    "        try:\n",
    "            message = client_socket.recv(1024)\n",
    "            if message:\n",
    "                decoded_message = message.decode()\n",
    "                logging.info(f\"{username}: {decoded_message}\")\n",
    "                print(f\"Received from {username}: {decoded_message}\")\n",
    "                broadcast(message, client_socket, username)\n",
    "            else:\n",
    "                clients.remove(client_socket)\n",
    "                del usernames[client_socket]\n",
    "        except:\n",
    "            clients.remove(client_socket)\n",
    "            del usernames[client_socket]\n",
    "            break\n",
    "\n",
    "def start_server():\n",
    "    server = socket.socket(socket.AF_INET, socket.SOCK_STREAM)\n",
    "    server.bind(('localhost', 1234))\n",
    "    server.listen()\n",
    "\n",
    "    print(\"Server is listening for connections...\")\n",
    "\n",
    "    while True:\n",
    "        client_socket, client_addr = server.accept()\n",
    "        clients.append(client_socket)\n",
    "\n",
    "        username = client_socket.recv(1024).decode()\n",
    "        print(f\"{username} connected\")\n",
    "        logging.info(f\"{username} connected\")\n",
    "\n",
    "        welcome_message = f\"Welcome to the chat, {username}!\"\n",
    "        client_socket.send(welcome_message.encode())\n",
    "\n",
    "        broadcast(f\"{username} joined the chat.\", client_socket, \"Server\")\n",
    "\n",
    "        usernames[client_socket] = username\n",
    "\n",
    "        client_thread = threading.Thread(target=handle_client, args=(client_socket, username))\n",
    "        client_thread.start()\n",
    "\n",
    "if __name__ == \"__main__\":\n",
    "    start_server()  \n"
   ]
  }
 ],
 "metadata": {
  "kernelspec": {
   "display_name": "Python 3",
   "language": "python",
   "name": "python3"
  },
  "language_info": {
   "codemirror_mode": {
    "name": "ipython",
    "version": 3
   },
   "file_extension": ".py",
   "mimetype": "text/x-python",
   "name": "python",
   "nbconvert_exporter": "python",
   "pygments_lexer": "ipython3",
   "version": "3.11.2"
  }
 },
 "nbformat": 4,
 "nbformat_minor": 2
}
